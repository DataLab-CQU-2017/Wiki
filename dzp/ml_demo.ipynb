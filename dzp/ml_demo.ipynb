{
 "cells": [
  {
   "cell_type": "markdown",
   "metadata": {},
   "source": [
    "# ML Demo \n",
    "- 此文档是机器学习实验的示例模板\n",
    "- 介绍完整机器学习所需步骤\n",
    "- 本示例模板也可以认为是benchmark  \n",
    "- **以后的notebook，都要在最开始写本notebook做的是什么**"
   ]
  },
  {
   "cell_type": "markdown",
   "metadata": {},
   "source": [
    "## 步骤\n",
    "- 引入相关依赖包\n",
    "- 读取数据\n",
    "- 数据处理（包括但不限于：数据清洗，特征选择，特征工程等）\n",
    "- 训练模型\n",
    "- 预测数据\n",
    "- 指标评价\n",
    "- 保存"
   ]
  },
  {
   "cell_type": "markdown",
   "metadata": {},
   "source": [
    "## 引入相关依赖包"
   ]
  },
  {
   "cell_type": "code",
   "execution_count": 1,
   "metadata": {
    "collapsed": true
   },
   "outputs": [],
   "source": [
    "import numpy as np\n",
    "import pandas as pd\n",
    "from sklearn.linear_model import LogisticRegression\n",
    "from sklearn.model_selection import train_test_split\n",
    "from sklearn import metrics"
   ]
  },
  {
   "cell_type": "markdown",
   "metadata": {},
   "source": [
    "## 读取数据\n",
    "- 路径都统一在开始定义\n",
    "- 等服务器来了，就统一写服务器路径，这样可以确保其他人复制时，可以一键运行\n",
    "- 全局变量，常量。全部大写，并定义与此"
   ]
  },
  {
   "cell_type": "code",
   "execution_count": 2,
   "metadata": {
    "collapsed": true
   },
   "outputs": [],
   "source": [
    "dataOffline_path = 'ccf_offline_stage1_train.csv'\n",
    "dataPredict_path = 'ccf_offline_stage1_test_revised.csv'\n",
    "dataPredict_results_path = 'sample_submission.csv'"
   ]
  },
  {
   "cell_type": "code",
   "execution_count": 1,
   "metadata": {
    "scrolled": true
   },
   "outputs": [],
   "source": [
    "# 读入训练数据集\n",
    "dataOffline = pd.read_csv(dataOffline_path)\n",
    "\n",
    "# 读取预测数据集\n",
    "dataPredict = pd.read_csv(dataPredict_path)"
   ]
  },
  {
   "cell_type": "markdown",
   "metadata": {},
   "source": [
    "## 数据处理\n",
    "#### 此处以distance为例\n",
    "1. 从训练数据中选取出Distance特征先关的数据\n",
    "2. 指定用于训练模型的X_train,y_train数据集\n",
    "3. 从预测数据中选取出Distance特征先关的数据"
   ]
  },
  {
   "cell_type": "code",
   "execution_count": 41,
   "metadata": {
    "collapsed": true
   },
   "outputs": [],
   "source": [
    "# 设置类别值\n",
    "# 使用优惠券，设置为1，否则为0\n",
    "dataOffline['result'] = dataOffline[['Coupon_id', 'Date']].apply(lambda x: 1 if pd.notnull(x[0]) and pd.notnull(x[1]) else 0, axis=1)"
   ]
  },
  {
   "cell_type": "code",
   "execution_count": 42,
   "metadata": {
    "collapsed": true
   },
   "outputs": [],
   "source": [
    "# 将Distance为空的先关数据去除\n",
    "dataOffline = dataOffline[pd.notna(dataOffline.Distance)]"
   ]
  },
  {
   "cell_type": "code",
   "execution_count": 43,
   "metadata": {
    "collapsed": true,
    "scrolled": true
   },
   "outputs": [],
   "source": [
    "# 选取训练数据中Distance特征相关数据\n",
    "x_train = dataOffline[['Distance']]\n",
    "y_train = dataOffline.result"
   ]
  },
  {
   "cell_type": "code",
   "execution_count": 44,
   "metadata": {
    "collapsed": true,
    "scrolled": false
   },
   "outputs": [],
   "source": [
    "# 选取预测数据中Distance先关的数据\n",
    "x_predict = dataPredict[['Distance']]\n",
    "# Distance为空的预测数据默认填充为10\n",
    "x_predict = x_predict.fillna(10)"
   ]
  },
  {
   "cell_type": "markdown",
   "metadata": {},
   "source": [
    "## 训练模型"
   ]
  },
  {
   "cell_type": "code",
   "execution_count": 45,
   "metadata": {},
   "outputs": [
    {
     "data": {
      "text/plain": [
       "LogisticRegression(C=1.0, class_weight=None, dual=False, fit_intercept=True,\n",
       "          intercept_scaling=1, max_iter=100, multi_class='ovr', n_jobs=1,\n",
       "          penalty='l2', random_state=None, solver='liblinear', tol=0.0001,\n",
       "          verbose=0, warm_start=False)"
      ]
     },
     "execution_count": 45,
     "metadata": {},
     "output_type": "execute_result"
    }
   ],
   "source": [
    "# 生成logstic模型\n",
    "classify = LogisticRegression()\n",
    "# 用训练数据训练模型\n",
    "classify.fit(x_train, y_train)"
   ]
  },
  {
   "cell_type": "markdown",
   "metadata": {},
   "source": [
    "## 预测数据"
   ]
  },
  {
   "cell_type": "code",
   "execution_count": 46,
   "metadata": {
    "collapsed": true
   },
   "outputs": [],
   "source": [
    "predict_proba_y = classify.predict_proba(x_predict)"
   ]
  },
  {
   "cell_type": "markdown",
   "metadata": {},
   "source": [
    "## 指标评价\n",
    "- 这是最重要的环节，指标是衡量之前工作是否有效的唯一标准！！！\n",
    "- 如果出现了和常识不一样的结果，尝试从以下方面找原因\n",
    "  - 代码（可以通过“代码检视”解决）\n",
    "  - 深入研究特征和常识的不一致，也许金子就在这里\n",
    "- 再强调一遍，我们是数字驱动！！！所以一开始在评价指标的确定上，可以多花点时间！！！"
   ]
  },
  {
   "cell_type": "code",
   "execution_count": null,
   "metadata": {
    "collapsed": true
   },
   "outputs": [],
   "source": []
  },
  {
   "cell_type": "markdown",
   "metadata": {},
   "source": [
    "# 输出到制定的文件"
   ]
  },
  {
   "cell_type": "code",
   "execution_count": 49,
   "metadata": {
    "collapsed": true
   },
   "outputs": [],
   "source": [
    "dataPredict = dataPredict[['User_id', 'Coupon_id', 'Date_received']]\n",
    "dataPredict.insert(len(dataPredict.columns), 'probability', predict_proba_y[:,1], True)\n",
    "dataPredict.to_csv(dataPredict_results_path, header=None, index=None)"
   ]
  }
 ],
 "metadata": {
  "kernelspec": {
   "display_name": "Python 3",
   "language": "python",
   "name": "python3"
  },
  "language_info": {
   "codemirror_mode": {
    "name": "ipython",
    "version": 3
   },
   "file_extension": ".py",
   "mimetype": "text/x-python",
   "name": "python",
   "nbconvert_exporter": "python",
   "pygments_lexer": "ipython3",
   "version": "3.5.2"
  }
 },
 "nbformat": 4,
 "nbformat_minor": 2
}
