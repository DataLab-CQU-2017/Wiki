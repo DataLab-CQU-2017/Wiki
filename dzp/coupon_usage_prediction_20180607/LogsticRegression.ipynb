{
 "cells": [
  {
   "cell_type": "code",
   "execution_count": 49,
   "metadata": {},
   "outputs": [],
   "source": [
    "#!/usr/bin/env python\n",
    "# -*- coding: utf-8 -*-\n",
    "import numpy as np\n",
    "import pandas as pd\n",
    "from sklearn.linear_model import LogisticRegression\n",
    "from sklearn.model_selection import train_test_split\n",
    "from sklearn import metrics"
   ]
  },
  {
   "cell_type": "markdown",
   "metadata": {},
   "source": [
    "# 读取训练数据"
   ]
  },
  {
   "cell_type": "code",
   "execution_count": 2,
   "metadata": {},
   "outputs": [
    {
     "name": "stdout",
     "output_type": "stream",
     "text": [
      "(299, 7)\n"
     ]
    }
   ],
   "source": [
    "if __name__ == \"__main__\":\n",
    "    # pandas 读入数据\n",
    "    dataOnline = pd.read_csv('test1.csv')\n",
    "    print(dataOnline.shape)"
   ]
  },
  {
   "cell_type": "markdown",
   "metadata": {},
   "source": [
    "# 数据预处理\n",
    "## 设置输出值\n",
    "## 选择Distance作为特征\n",
    "## 划分测试机与训练集"
   ]
  },
  {
   "cell_type": "code",
   "execution_count": 3,
   "metadata": {},
   "outputs": [],
   "source": [
    "dataOnline['result'] = dataOnline[['Coupon_id', 'Date']].apply(lambda x: 1 if pd.notnull(x[0]) and pd.notnull(x[1]) else 0, axis=1)"
   ]
  },
  {
   "cell_type": "code",
   "execution_count": null,
   "metadata": {},
   "outputs": [],
   "source": [
    "# print(dataOnline)"
   ]
  },
  {
   "cell_type": "code",
   "execution_count": 4,
   "metadata": {
    "scrolled": true
   },
   "outputs": [],
   "source": [
    "dataOnline.Distance = dataOnline.Distance.fillna(9999)\n",
    "dataOnline = dataOnline[dataOnline.Distance != 9999]\n",
    "X = dataOnline[['Distance']]"
   ]
  },
  {
   "cell_type": "code",
   "execution_count": 5,
   "metadata": {},
   "outputs": [],
   "source": [
    "y = dataOnline.result\n",
    "x_train, x_test, y_train, y_test = train_test_split(X, y, test_size=0.2, random_state=1)"
   ]
  },
  {
   "cell_type": "code",
   "execution_count": null,
   "metadata": {
    "scrolled": false
   },
   "outputs": [],
   "source": [
    "# print(x_train)\n",
    "# print(y_train)"
   ]
  },
  {
   "cell_type": "markdown",
   "metadata": {},
   "source": [
    "# 训练模型"
   ]
  },
  {
   "cell_type": "code",
   "execution_count": 6,
   "metadata": {},
   "outputs": [
    {
     "data": {
      "text/plain": [
       "LogisticRegression(C=1.0, class_weight=None, dual=False, fit_intercept=True,\n",
       "          intercept_scaling=1, max_iter=100, multi_class='ovr', n_jobs=1,\n",
       "          penalty='l2', random_state=None, solver='liblinear', tol=0.0001,\n",
       "          verbose=0, warm_start=False)"
      ]
     },
     "execution_count": 6,
     "metadata": {},
     "output_type": "execute_result"
    }
   ],
   "source": [
    "classify = LogisticRegression()\n",
    "classify.fit(x_train, y_train)"
   ]
  },
  {
   "cell_type": "markdown",
   "metadata": {},
   "source": [
    "# 读入测试数据"
   ]
  },
  {
   "cell_type": "code",
   "execution_count": 51,
   "metadata": {},
   "outputs": [],
   "source": [
    "dataTest = pd.read_csv('ccf_offline_stage1_test_revised.csv')"
   ]
  },
  {
   "cell_type": "code",
   "execution_count": 52,
   "metadata": {
    "scrolled": true
   },
   "outputs": [
    {
     "name": "stdout",
     "output_type": "stream",
     "text": [
      "<class 'pandas.core.frame.DataFrame'>\n"
     ]
    }
   ],
   "source": [
    "print(type(dataTest))"
   ]
  },
  {
   "cell_type": "code",
   "execution_count": 53,
   "metadata": {},
   "outputs": [
    {
     "name": "stdout",
     "output_type": "stream",
     "text": [
      "(113640, 6)\n"
     ]
    }
   ],
   "source": [
    "print(dataTest.shape)"
   ]
  },
  {
   "cell_type": "code",
   "execution_count": 54,
   "metadata": {
    "scrolled": true
   },
   "outputs": [
    {
     "name": "stdout",
     "output_type": "stream",
     "text": [
      "        User_id  Merchant_id  Coupon_id Discount_rate  Distance  Date_received\n",
      "0       4129537          450       9983          30:5       1.0       20160712\n",
      "1       6949378         1300       3429          30:5       NaN       20160706\n",
      "2       2166529         7113       6928        200:20       5.0       20160727\n",
      "3       2166529         7113       1808        100:10       5.0       20160727\n",
      "4       6172162         7605       6500          30:1       2.0       20160708\n",
      "5       4005121          450       9983          30:5       0.0       20160706\n",
      "6       4347394          450       9983          30:5       0.0       20160716\n",
      "7       3094273          760      13602          30:5       1.0       20160727\n",
      "8       5139970          450       9983          30:5      10.0       20160729\n",
      "9       3237121          760      13602          30:5       1.0       20160703\n",
      "10      6224386          450       9983          30:5       3.0       20160716\n",
      "11      6488578          760      13602          30:5       0.0       20160712\n",
      "12      4164865          450       9983          30:5       2.0       20160703\n",
      "13      4164865         5138       8059         50:10       1.0       20160706\n",
      "14      5468674          450       9983          30:5       NaN       20160713\n",
      "15      6258178         7024       9144          10:1       0.0       20160706\n",
      "16      3659521         6000       7341        150:30       6.0       20160727\n",
      "17      3659521         2436      13181          20:1       3.0       20160717\n",
      "18      3659521          760      13602          30:5       0.0       20160718\n",
      "19      7333378          760      13602          30:5       0.0       20160704\n",
      "20      7333378         6901        785          20:5       1.0       20160727\n",
      "21      4454914         3621       2978          20:5       0.0       20160711\n",
      "22      6817282         6362       8375        100:20       6.0       20160724\n",
      "23      3149569         5717      10418          30:5       0.0       20160721\n",
      "24      6301186         8318       1715          30:1       1.0       20160718\n",
      "25      6301186         2199       4203        300:50       1.0       20160708\n",
      "26      2891521          760      13602          30:5       0.0       20160724\n",
      "27      3422977          760      13602          30:5       0.0       20160727\n",
      "28      4771330          760      13602          30:5       7.0       20160726\n",
      "29      4513282         1469      11799        100:10       7.0       20160712\n",
      "...         ...          ...        ...           ...       ...            ...\n",
      "113610  4194809         1469      11799        100:10       1.0       20160717\n",
      "113611  4194809          760      13602          30:5       0.0       20160713\n",
      "113612  6062585         2050      10438        200:20       2.0       20160719\n",
      "113613  6062585          760      13602          30:5      10.0       20160719\n",
      "113614  6074873         6955        878          20:1       0.0       20160724\n",
      "113615  6342137          760      13602          30:5       7.0       20160728\n",
      "113616  6342137         5138       8059         50:10       1.0       20160704\n",
      "113617  6342137         8305       9822        200:20       2.0       20160724\n",
      "113618  6342137         1300       3429          30:5      10.0       20160718\n",
      "113619  4317689         5138       5933         50:10       1.0       20160727\n",
      "113620  5110265          760      13602          30:5       2.0       20160711\n",
      "113621  5110265          450       9983          30:5       2.0       20160711\n",
      "113622  6422009         5798       5874          50:1       1.0       20160710\n",
      "113623  4851197          450       9983          30:5      10.0       20160713\n",
      "113624  4894205         3621       2978          20:5       0.0       20160711\n",
      "113625  7253501          760      13602          30:5       5.0       20160714\n",
      "113626  6485501          760      13602          30:5       7.0       20160720\n",
      "113627  4918781         2050      10438        200:20       0.0       20160723\n",
      "113628  6497789          450       9983          30:5       2.0       20160716\n",
      "113629  7047677         1469       2601        100:20       1.0       20160708\n",
      "113630  6786557          450       9983          30:5       0.0       20160718\n",
      "113631  6801917          760      13602          30:5       1.0       20160719\n",
      "113632  7066109         7024       9144          10:1       0.0       20160705\n",
      "113633  4451837          760      13602          30:5       0.0       20160723\n",
      "113634  5828093         3621       2978          20:5       NaN       20160716\n",
      "113635  5828093         5717      10418          30:5      10.0       20160716\n",
      "113636  6626813         1699       7595          30:1       NaN       20160707\n",
      "113637  6626813         7321       7590          50:5       NaN       20160712\n",
      "113638  4547069          760      13602          30:5       0.0       20160717\n",
      "113639  6675965         7487        613          20:1       5.0       20160728\n",
      "\n",
      "[113640 rows x 6 columns]\n"
     ]
    }
   ],
   "source": [
    "print(dataTest)"
   ]
  },
  {
   "cell_type": "markdown",
   "metadata": {},
   "source": [
    "# 测试数据预处理\n",
    "## 提取测试数据Distance\\"
   ]
  },
  {
   "cell_type": "code",
   "execution_count": 55,
   "metadata": {
    "scrolled": false
   },
   "outputs": [
    {
     "name": "stdout",
     "output_type": "stream",
     "text": [
      "<class 'pandas.core.frame.DataFrame'>\n",
      "(113640, 1)\n"
     ]
    }
   ],
   "source": [
    "X = dataTest[['Distance']]\n",
    "X= X.fillna(10)\n",
    "print(type(X))\n",
    "print(X.shape)"
   ]
  },
  {
   "cell_type": "markdown",
   "metadata": {},
   "source": [
    "# 计算 预测的概率"
   ]
  },
  {
   "cell_type": "code",
   "execution_count": 56,
   "metadata": {},
   "outputs": [],
   "source": [
    "predict_proba_y = classify.predict_proba(X)"
   ]
  },
  {
   "cell_type": "code",
   "execution_count": 41,
   "metadata": {
    "scrolled": true
   },
   "outputs": [
    {
     "name": "stdout",
     "output_type": "stream",
     "text": [
      "[[0.60394453 0.39605547]\n",
      " [0.8780775  0.1219225 ]\n",
      " [0.75248187 0.24751813]\n",
      " ...\n",
      " [0.8780775  0.1219225 ]\n",
      " [0.56203788 0.43796212]\n",
      " [0.75248187 0.24751813]]\n"
     ]
    }
   ],
   "source": [
    "print(predict_proba_y)"
   ]
  },
  {
   "cell_type": "markdown",
   "metadata": {},
   "source": [
    "## 合并数据"
   ]
  },
  {
   "cell_type": "code",
   "execution_count": 42,
   "metadata": {},
   "outputs": [
    {
     "name": "stdout",
     "output_type": "stream",
     "text": [
      "<class 'pandas.core.frame.DataFrame'>\n",
      "3\n"
     ]
    }
   ],
   "source": [
    "dataTest = dataTest[['User_id', 'Coupon_id', 'Date_received']]\n",
    "print(type(dataTest))\n",
    "print(len(dataTest.columns))"
   ]
  },
  {
   "cell_type": "code",
   "execution_count": 43,
   "metadata": {},
   "outputs": [],
   "source": [
    "dataTest.insert(len(dataTest.columns), 'probability', predict_proba_y[:,1], True)"
   ]
  },
  {
   "cell_type": "code",
   "execution_count": 46,
   "metadata": {
    "scrolled": true
   },
   "outputs": [
    {
     "name": "stdout",
     "output_type": "stream",
     "text": [
      "        User_id  Coupon_id  Date_received  probability\n",
      "0       4129537       9983       20160712     0.396055\n",
      "1       6949378       3429       20160706     0.121922\n",
      "2       2166529       6928       20160727     0.247518\n",
      "3       2166529       1808       20160727     0.247518\n",
      "4       6172162       6500       20160708     0.355621\n",
      "5       4005121       9983       20160706     0.437962\n",
      "6       4347394       9983       20160716     0.437962\n",
      "7       3094273      13602       20160727     0.396055\n",
      "8       5139970       9983       20160729     0.121922\n",
      "9       3237121      13602       20160703     0.396055\n",
      "10      6224386       9983       20160716     0.317148\n",
      "11      6488578      13602       20160712     0.437962\n",
      "12      4164865       9983       20160703     0.355621\n",
      "13      4164865       8059       20160706     0.396055\n",
      "14      5468674       9983       20160713     0.121922\n",
      "15      6258178       9144       20160706     0.437962\n",
      "16      3659521       7341       20160727     0.216805\n",
      "17      3659521      13181       20160717     0.317148\n",
      "18      3659521      13602       20160718     0.437962\n",
      "19      7333378      13602       20160704     0.437962\n",
      "20      7333378        785       20160727     0.396055\n",
      "21      4454914       2978       20160711     0.437962\n",
      "22      6817282       8375       20160724     0.216805\n",
      "23      3149569      10418       20160721     0.437962\n",
      "24      6301186       1715       20160718     0.396055\n",
      "25      6301186       4203       20160708     0.396055\n",
      "26      2891521      13602       20160724     0.437962\n",
      "27      3422977      13602       20160727     0.437962\n",
      "28      4771330      13602       20160726     0.188946\n",
      "29      4513282      11799       20160712     0.188946\n",
      "...         ...        ...            ...          ...\n",
      "113610  4194809      11799       20160717     0.396055\n",
      "113611  4194809      13602       20160713     0.437962\n",
      "113612  6062585      10438       20160719     0.355621\n",
      "113613  6062585      13602       20160719     0.121922\n",
      "113614  6074873        878       20160724     0.437962\n",
      "113615  6342137      13602       20160728     0.188946\n",
      "113616  6342137       8059       20160704     0.396055\n",
      "113617  6342137       9822       20160724     0.355621\n",
      "113618  6342137       3429       20160718     0.121922\n",
      "113619  4317689       5933       20160727     0.396055\n",
      "113620  5110265      13602       20160711     0.355621\n",
      "113621  5110265       9983       20160711     0.355621\n",
      "113622  6422009       5874       20160710     0.396055\n",
      "113623  4851197       9983       20160713     0.121922\n",
      "113624  4894205       2978       20160711     0.437962\n",
      "113625  7253501      13602       20160714     0.247518\n",
      "113626  6485501      13602       20160720     0.188946\n",
      "113627  4918781      10438       20160723     0.437962\n",
      "113628  6497789       9983       20160716     0.355621\n",
      "113629  7047677       2601       20160708     0.396055\n",
      "113630  6786557       9983       20160718     0.437962\n",
      "113631  6801917      13602       20160719     0.396055\n",
      "113632  7066109       9144       20160705     0.437962\n",
      "113633  4451837      13602       20160723     0.437962\n",
      "113634  5828093       2978       20160716     0.121922\n",
      "113635  5828093      10418       20160716     0.121922\n",
      "113636  6626813       7595       20160707     0.121922\n",
      "113637  6626813       7590       20160712     0.121922\n",
      "113638  4547069      13602       20160717     0.437962\n",
      "113639  6675965        613       20160728     0.247518\n",
      "\n",
      "[113640 rows x 4 columns]\n"
     ]
    }
   ],
   "source": [
    "print(dataTest)"
   ]
  },
  {
   "cell_type": "markdown",
   "metadata": {},
   "source": [
    "# 输出到制定的文件"
   ]
  },
  {
   "cell_type": "code",
   "execution_count": 48,
   "metadata": {},
   "outputs": [],
   "source": [
    "dataTest.to_csv(\"sample_submission.csv\", header=None, index=None)"
   ]
  }
 ],
 "metadata": {
  "kernelspec": {
   "display_name": "Python 3",
   "language": "python",
   "name": "python3"
  },
  "language_info": {
   "codemirror_mode": {
    "name": "ipython",
    "version": 3
   },
   "file_extension": ".py",
   "mimetype": "text/x-python",
   "name": "python",
   "nbconvert_exporter": "python",
   "pygments_lexer": "ipython3",
   "version": "3.6.4"
  }
 },
 "nbformat": 4,
 "nbformat_minor": 2
}
