{
 "cells": [
  {
   "cell_type": "code",
   "execution_count": 67,
   "metadata": {},
   "outputs": [],
   "source": [
    "#!/usr/bin/env python\n",
    "# -*- coding: utf-8 -*-\n",
    "import numpy as np\n",
    "import pandas as pd\n",
    "from sklearn.linear_model import LogisticRegression\n",
    "from sklearn.model_selection import train_test_split"
   ]
  },
  {
   "cell_type": "markdown",
   "metadata": {},
   "source": [
    "# 读取训练数据"
   ]
  },
  {
   "cell_type": "code",
   "execution_count": 70,
   "metadata": {},
   "outputs": [
    {
     "name": "stdout",
     "output_type": "stream",
     "text": [
      "(299, 7)\n"
     ]
    }
   ],
   "source": [
    "if __name__ == \"__main__\":\n",
    "    # pandas 读入数据\n",
    "    dataOnline = pd.read_csv('test1.csv')\n",
    "    print(dataOnline.shape)"
   ]
  },
  {
   "cell_type": "markdown",
   "metadata": {},
   "source": [
    "# 数据预处理\n",
    "## 设置输出值\n",
    "## 选择Distance作为特征\n",
    "## 划分测试机与训练集"
   ]
  },
  {
   "cell_type": "code",
   "execution_count": 5,
   "metadata": {},
   "outputs": [],
   "source": [
    "dataOnline['result'] = dataOnline[['Coupon_id', 'Date']].apply(lambda x: 1 if pd.notnull(x[0]) and pd.notnull(x[1]) else 0, axis=1)"
   ]
  },
  {
   "cell_type": "code",
   "execution_count": 6,
   "metadata": {},
   "outputs": [],
   "source": [
    "# print(dataOnline)"
   ]
  },
  {
   "cell_type": "code",
   "execution_count": 7,
   "metadata": {
    "scrolled": true
   },
   "outputs": [],
   "source": [
    "dataOnline.Distance = dataOnline.Distance.fillna(9999)\n",
    "dataOnline = dataOnline[dataOnline.Distance != 9999]\n",
    "X = dataOnline[['Distance']]"
   ]
  },
  {
   "cell_type": "code",
   "execution_count": 9,
   "metadata": {},
   "outputs": [],
   "source": [
    "y = dataOnline.result\n",
    "x_train, x_test, y_train, y_test = train_test_split(X, y, test_size=0.2, random_state=1)"
   ]
  },
  {
   "cell_type": "code",
   "execution_count": 68,
   "metadata": {
    "scrolled": false
   },
   "outputs": [],
   "source": [
    "# print(x_train)\n",
    "# print(y_train)"
   ]
  },
  {
   "cell_type": "markdown",
   "metadata": {},
   "source": [
    "# 训练模型"
   ]
  },
  {
   "cell_type": "code",
   "execution_count": 66,
   "metadata": {},
   "outputs": [
    {
     "data": {
      "text/plain": [
       "LogisticRegression(C=1.0, class_weight=None, dual=False, fit_intercept=True,\n",
       "          intercept_scaling=1, max_iter=100, multi_class='ovr', n_jobs=1,\n",
       "          penalty='l2', random_state=None, solver='liblinear', tol=0.0001,\n",
       "          verbose=0, warm_start=False)"
      ]
     },
     "execution_count": 66,
     "metadata": {},
     "output_type": "execute_result"
    }
   ],
   "source": [
    "classify = LogisticRegression()\n",
    "classify.fit(x_train, y_train)"
   ]
  },
  {
   "cell_type": "markdown",
   "metadata": {},
   "source": [
    "# 读入测试数据"
   ]
  },
  {
   "cell_type": "code",
   "execution_count": 14,
   "metadata": {},
   "outputs": [],
   "source": [
    "dataTest = pd.read_csv('ccf_offline_stage1_test_revised.csv')"
   ]
  },
  {
   "cell_type": "code",
   "execution_count": 62,
   "metadata": {
    "scrolled": true
   },
   "outputs": [
    {
     "name": "stdout",
     "output_type": "stream",
     "text": [
      "<class 'pandas.core.frame.DataFrame'>\n"
     ]
    }
   ],
   "source": [
    "print(type(dataTest))"
   ]
  },
  {
   "cell_type": "code",
   "execution_count": 63,
   "metadata": {},
   "outputs": [
    {
     "name": "stdout",
     "output_type": "stream",
     "text": [
      "(454560, 4)\n"
     ]
    }
   ],
   "source": [
    "print(dataTest.shape)"
   ]
  },
  {
   "cell_type": "code",
   "execution_count": 71,
   "metadata": {
    "scrolled": true
   },
   "outputs": [
    {
     "name": "stdout",
     "output_type": "stream",
     "text": [
      "          User_id  Coupon_id  Date_received         0\n",
      "0       4129537.0     9983.0     20160712.0       NaN\n",
      "1       6949378.0     3429.0     20160706.0       NaN\n",
      "2       2166529.0     6928.0     20160727.0       NaN\n",
      "3       2166529.0     1808.0     20160727.0       NaN\n",
      "4       6172162.0     6500.0     20160708.0       NaN\n",
      "5       4005121.0     9983.0     20160706.0       NaN\n",
      "6       4347394.0     9983.0     20160716.0       NaN\n",
      "7       3094273.0    13602.0     20160727.0       NaN\n",
      "8       5139970.0     9983.0     20160729.0       NaN\n",
      "9       3237121.0    13602.0     20160703.0       NaN\n",
      "10      6224386.0     9983.0     20160716.0       NaN\n",
      "11      6488578.0    13602.0     20160712.0       NaN\n",
      "12      4164865.0     9983.0     20160703.0       NaN\n",
      "13      4164865.0     8059.0     20160706.0       NaN\n",
      "14      5468674.0     9983.0     20160713.0       NaN\n",
      "15      6258178.0     9144.0     20160706.0       NaN\n",
      "16      3659521.0     7341.0     20160727.0       NaN\n",
      "17      3659521.0    13181.0     20160717.0       NaN\n",
      "18      3659521.0    13602.0     20160718.0       NaN\n",
      "19      7333378.0    13602.0     20160704.0       NaN\n",
      "20      7333378.0      785.0     20160727.0       NaN\n",
      "21      4454914.0     2978.0     20160711.0       NaN\n",
      "22      6817282.0     8375.0     20160724.0       NaN\n",
      "23      3149569.0    10418.0     20160721.0       NaN\n",
      "24      6301186.0     1715.0     20160718.0       NaN\n",
      "25      6301186.0     4203.0     20160708.0       NaN\n",
      "26      2891521.0    13602.0     20160724.0       NaN\n",
      "27      3422977.0    13602.0     20160727.0       NaN\n",
      "28      4771330.0    13602.0     20160726.0       NaN\n",
      "29      4513282.0    11799.0     20160712.0       NaN\n",
      "...           ...        ...            ...       ...\n",
      "113610        NaN        NaN            NaN  0.396055\n",
      "113611        NaN        NaN            NaN  0.437962\n",
      "113612        NaN        NaN            NaN  0.355621\n",
      "113613        NaN        NaN            NaN  0.121922\n",
      "113614        NaN        NaN            NaN  0.437962\n",
      "113615        NaN        NaN            NaN  0.188946\n",
      "113616        NaN        NaN            NaN  0.396055\n",
      "113617        NaN        NaN            NaN  0.355621\n",
      "113618        NaN        NaN            NaN  0.121922\n",
      "113619        NaN        NaN            NaN  0.396055\n",
      "113620        NaN        NaN            NaN  0.355621\n",
      "113621        NaN        NaN            NaN  0.355621\n",
      "113622        NaN        NaN            NaN  0.396055\n",
      "113623        NaN        NaN            NaN  0.121922\n",
      "113624        NaN        NaN            NaN  0.437962\n",
      "113625        NaN        NaN            NaN  0.247518\n",
      "113626        NaN        NaN            NaN  0.188946\n",
      "113627        NaN        NaN            NaN  0.437962\n",
      "113628        NaN        NaN            NaN  0.355621\n",
      "113629        NaN        NaN            NaN  0.396055\n",
      "113630        NaN        NaN            NaN  0.437962\n",
      "113631        NaN        NaN            NaN  0.396055\n",
      "113632        NaN        NaN            NaN  0.437962\n",
      "113633        NaN        NaN            NaN  0.437962\n",
      "113634        NaN        NaN            NaN  0.121922\n",
      "113635        NaN        NaN            NaN  0.121922\n",
      "113636        NaN        NaN            NaN  0.121922\n",
      "113637        NaN        NaN            NaN  0.121922\n",
      "113638        NaN        NaN            NaN  0.437962\n",
      "113639        NaN        NaN            NaN  0.247518\n",
      "\n",
      "[454560 rows x 4 columns]\n"
     ]
    }
   ],
   "source": [
    "print(dataTest)"
   ]
  },
  {
   "cell_type": "markdown",
   "metadata": {},
   "source": [
    "# 测试数据预处理\n",
    "## 提取测试数据Distance"
   ]
  },
  {
   "cell_type": "code",
   "execution_count": 64,
   "metadata": {
    "scrolled": false
   },
   "outputs": [
    {
     "ename": "KeyError",
     "evalue": "\"['Distance'] not in index\"",
     "output_type": "error",
     "traceback": [
      "\u001b[0;31m---------------------------------------------------------------------------\u001b[0m",
      "\u001b[0;31mKeyError\u001b[0m                                  Traceback (most recent call last)",
      "\u001b[0;32m<ipython-input-64-46faacfca69b>\u001b[0m in \u001b[0;36m<module>\u001b[0;34m()\u001b[0m\n\u001b[0;32m----> 1\u001b[0;31m \u001b[0mX\u001b[0m \u001b[0;34m=\u001b[0m \u001b[0mdataTest\u001b[0m\u001b[0;34m[\u001b[0m\u001b[0;34m[\u001b[0m\u001b[0;34m'Distance'\u001b[0m\u001b[0;34m]\u001b[0m\u001b[0;34m]\u001b[0m\u001b[0;34m\u001b[0m\u001b[0m\n\u001b[0m\u001b[1;32m      2\u001b[0m \u001b[0mX\u001b[0m\u001b[0;34m=\u001b[0m \u001b[0mX\u001b[0m\u001b[0;34m.\u001b[0m\u001b[0mfillna\u001b[0m\u001b[0;34m(\u001b[0m\u001b[0;36m10\u001b[0m\u001b[0;34m)\u001b[0m\u001b[0;34m\u001b[0m\u001b[0m\n\u001b[1;32m      3\u001b[0m \u001b[0mprint\u001b[0m\u001b[0;34m(\u001b[0m\u001b[0mtype\u001b[0m\u001b[0;34m(\u001b[0m\u001b[0mX\u001b[0m\u001b[0;34m)\u001b[0m\u001b[0;34m)\u001b[0m\u001b[0;34m\u001b[0m\u001b[0m\n",
      "\u001b[0;32m~/anaconda3/lib/python3.6/site-packages/pandas/core/frame.py\u001b[0m in \u001b[0;36m__getitem__\u001b[0;34m(self, key)\u001b[0m\n\u001b[1;32m   2131\u001b[0m         \u001b[0;32mif\u001b[0m \u001b[0misinstance\u001b[0m\u001b[0;34m(\u001b[0m\u001b[0mkey\u001b[0m\u001b[0;34m,\u001b[0m \u001b[0;34m(\u001b[0m\u001b[0mSeries\u001b[0m\u001b[0;34m,\u001b[0m \u001b[0mnp\u001b[0m\u001b[0;34m.\u001b[0m\u001b[0mndarray\u001b[0m\u001b[0;34m,\u001b[0m \u001b[0mIndex\u001b[0m\u001b[0;34m,\u001b[0m \u001b[0mlist\u001b[0m\u001b[0;34m)\u001b[0m\u001b[0;34m)\u001b[0m\u001b[0;34m:\u001b[0m\u001b[0;34m\u001b[0m\u001b[0m\n\u001b[1;32m   2132\u001b[0m             \u001b[0;31m# either boolean or fancy integer index\u001b[0m\u001b[0;34m\u001b[0m\u001b[0;34m\u001b[0m\u001b[0m\n\u001b[0;32m-> 2133\u001b[0;31m             \u001b[0;32mreturn\u001b[0m \u001b[0mself\u001b[0m\u001b[0;34m.\u001b[0m\u001b[0m_getitem_array\u001b[0m\u001b[0;34m(\u001b[0m\u001b[0mkey\u001b[0m\u001b[0;34m)\u001b[0m\u001b[0;34m\u001b[0m\u001b[0m\n\u001b[0m\u001b[1;32m   2134\u001b[0m         \u001b[0;32melif\u001b[0m \u001b[0misinstance\u001b[0m\u001b[0;34m(\u001b[0m\u001b[0mkey\u001b[0m\u001b[0;34m,\u001b[0m \u001b[0mDataFrame\u001b[0m\u001b[0;34m)\u001b[0m\u001b[0;34m:\u001b[0m\u001b[0;34m\u001b[0m\u001b[0m\n\u001b[1;32m   2135\u001b[0m             \u001b[0;32mreturn\u001b[0m \u001b[0mself\u001b[0m\u001b[0;34m.\u001b[0m\u001b[0m_getitem_frame\u001b[0m\u001b[0;34m(\u001b[0m\u001b[0mkey\u001b[0m\u001b[0;34m)\u001b[0m\u001b[0;34m\u001b[0m\u001b[0m\n",
      "\u001b[0;32m~/anaconda3/lib/python3.6/site-packages/pandas/core/frame.py\u001b[0m in \u001b[0;36m_getitem_array\u001b[0;34m(self, key)\u001b[0m\n\u001b[1;32m   2175\u001b[0m             \u001b[0;32mreturn\u001b[0m \u001b[0mself\u001b[0m\u001b[0;34m.\u001b[0m\u001b[0m_take\u001b[0m\u001b[0;34m(\u001b[0m\u001b[0mindexer\u001b[0m\u001b[0;34m,\u001b[0m \u001b[0maxis\u001b[0m\u001b[0;34m=\u001b[0m\u001b[0;36m0\u001b[0m\u001b[0;34m,\u001b[0m \u001b[0mconvert\u001b[0m\u001b[0;34m=\u001b[0m\u001b[0;32mFalse\u001b[0m\u001b[0;34m)\u001b[0m\u001b[0;34m\u001b[0m\u001b[0m\n\u001b[1;32m   2176\u001b[0m         \u001b[0;32melse\u001b[0m\u001b[0;34m:\u001b[0m\u001b[0;34m\u001b[0m\u001b[0m\n\u001b[0;32m-> 2177\u001b[0;31m             \u001b[0mindexer\u001b[0m \u001b[0;34m=\u001b[0m \u001b[0mself\u001b[0m\u001b[0;34m.\u001b[0m\u001b[0mloc\u001b[0m\u001b[0;34m.\u001b[0m\u001b[0m_convert_to_indexer\u001b[0m\u001b[0;34m(\u001b[0m\u001b[0mkey\u001b[0m\u001b[0;34m,\u001b[0m \u001b[0maxis\u001b[0m\u001b[0;34m=\u001b[0m\u001b[0;36m1\u001b[0m\u001b[0;34m)\u001b[0m\u001b[0;34m\u001b[0m\u001b[0m\n\u001b[0m\u001b[1;32m   2178\u001b[0m             \u001b[0;32mreturn\u001b[0m \u001b[0mself\u001b[0m\u001b[0;34m.\u001b[0m\u001b[0m_take\u001b[0m\u001b[0;34m(\u001b[0m\u001b[0mindexer\u001b[0m\u001b[0;34m,\u001b[0m \u001b[0maxis\u001b[0m\u001b[0;34m=\u001b[0m\u001b[0;36m1\u001b[0m\u001b[0;34m,\u001b[0m \u001b[0mconvert\u001b[0m\u001b[0;34m=\u001b[0m\u001b[0;32mTrue\u001b[0m\u001b[0;34m)\u001b[0m\u001b[0;34m\u001b[0m\u001b[0m\n\u001b[1;32m   2179\u001b[0m \u001b[0;34m\u001b[0m\u001b[0m\n",
      "\u001b[0;32m~/anaconda3/lib/python3.6/site-packages/pandas/core/indexing.py\u001b[0m in \u001b[0;36m_convert_to_indexer\u001b[0;34m(self, obj, axis, is_setter)\u001b[0m\n\u001b[1;32m   1267\u001b[0m                 \u001b[0;32mif\u001b[0m \u001b[0mmask\u001b[0m\u001b[0;34m.\u001b[0m\u001b[0many\u001b[0m\u001b[0;34m(\u001b[0m\u001b[0;34m)\u001b[0m\u001b[0;34m:\u001b[0m\u001b[0;34m\u001b[0m\u001b[0m\n\u001b[1;32m   1268\u001b[0m                     raise KeyError('{mask} not in index'\n\u001b[0;32m-> 1269\u001b[0;31m                                    .format(mask=objarr[mask]))\n\u001b[0m\u001b[1;32m   1270\u001b[0m \u001b[0;34m\u001b[0m\u001b[0m\n\u001b[1;32m   1271\u001b[0m                 \u001b[0;32mreturn\u001b[0m \u001b[0m_values_from_object\u001b[0m\u001b[0;34m(\u001b[0m\u001b[0mindexer\u001b[0m\u001b[0;34m)\u001b[0m\u001b[0;34m\u001b[0m\u001b[0m\n",
      "\u001b[0;31mKeyError\u001b[0m: \"['Distance'] not in index\""
     ]
    }
   ],
   "source": [
    "X = dataTest[['Distance']]\n",
    "X= X.fillna(10)\n",
    "print(type(X))"
   ]
  },
  {
   "cell_type": "markdown",
   "metadata": {},
   "source": [
    "# 计算 预测的概率"
   ]
  },
  {
   "cell_type": "code",
   "execution_count": 45,
   "metadata": {},
   "outputs": [],
   "source": [
    "predict_proba_y = classify.predict_proba(X)"
   ]
  },
  {
   "cell_type": "code",
   "execution_count": 52,
   "metadata": {
    "scrolled": true
   },
   "outputs": [
    {
     "name": "stdout",
     "output_type": "stream",
     "text": [
      "[[0.60394453 0.39605547]\n",
      " [0.8780775  0.1219225 ]\n",
      " [0.75248187 0.24751813]\n",
      " ...\n",
      " [0.8780775  0.1219225 ]\n",
      " [0.56203788 0.43796212]\n",
      " [0.75248187 0.24751813]]\n"
     ]
    }
   ],
   "source": [
    "print(predict_proba_y)"
   ]
  },
  {
   "cell_type": "markdown",
   "metadata": {},
   "source": [
    "# 创建概率这一列"
   ]
  },
  {
   "cell_type": "code",
   "execution_count": 50,
   "metadata": {},
   "outputs": [],
   "source": [
    "probability = pd.Series(predict_proba_y[:,1])"
   ]
  },
  {
   "cell_type": "code",
   "execution_count": 54,
   "metadata": {
    "scrolled": true
   },
   "outputs": [
    {
     "name": "stdout",
     "output_type": "stream",
     "text": [
      "0         0.396055\n",
      "1         0.121922\n",
      "2         0.247518\n",
      "3         0.247518\n",
      "4         0.355621\n",
      "5         0.437962\n",
      "6         0.437962\n",
      "7         0.396055\n",
      "8         0.121922\n",
      "9         0.396055\n",
      "10        0.317148\n",
      "11        0.437962\n",
      "12        0.355621\n",
      "13        0.396055\n",
      "14        0.121922\n",
      "15        0.437962\n",
      "16        0.216805\n",
      "17        0.317148\n",
      "18        0.437962\n",
      "19        0.437962\n",
      "20        0.396055\n",
      "21        0.437962\n",
      "22        0.216805\n",
      "23        0.437962\n",
      "24        0.396055\n",
      "25        0.396055\n",
      "26        0.437962\n",
      "27        0.437962\n",
      "28        0.188946\n",
      "29        0.188946\n",
      "            ...   \n",
      "113610    0.396055\n",
      "113611    0.437962\n",
      "113612    0.355621\n",
      "113613    0.121922\n",
      "113614    0.437962\n",
      "113615    0.188946\n",
      "113616    0.396055\n",
      "113617    0.355621\n",
      "113618    0.121922\n",
      "113619    0.396055\n",
      "113620    0.355621\n",
      "113621    0.355621\n",
      "113622    0.396055\n",
      "113623    0.121922\n",
      "113624    0.437962\n",
      "113625    0.247518\n",
      "113626    0.188946\n",
      "113627    0.437962\n",
      "113628    0.355621\n",
      "113629    0.396055\n",
      "113630    0.437962\n",
      "113631    0.396055\n",
      "113632    0.437962\n",
      "113633    0.437962\n",
      "113634    0.121922\n",
      "113635    0.121922\n",
      "113636    0.121922\n",
      "113637    0.121922\n",
      "113638    0.437962\n",
      "113639    0.247518\n",
      "Length: 113640, dtype: float64\n"
     ]
    }
   ],
   "source": [
    "print(probability)"
   ]
  },
  {
   "cell_type": "markdown",
   "metadata": {},
   "source": [
    "# 合并数据"
   ]
  },
  {
   "cell_type": "code",
   "execution_count": 58,
   "metadata": {},
   "outputs": [
    {
     "name": "stdout",
     "output_type": "stream",
     "text": [
      "<class 'pandas.core.frame.DataFrame'>\n"
     ]
    }
   ],
   "source": [
    "dataTest = dataTest[['User_id', 'Coupon_id', 'Date_received']]\n",
    "print(type(dataTest))"
   ]
  },
  {
   "cell_type": "code",
   "execution_count": 61,
   "metadata": {},
   "outputs": [
    {
     "name": "stdout",
     "output_type": "stream",
     "text": [
      "          User_id  Coupon_id  Date_received         0\n",
      "0       4129537.0     9983.0     20160712.0       NaN\n",
      "1       6949378.0     3429.0     20160706.0       NaN\n",
      "2       2166529.0     6928.0     20160727.0       NaN\n",
      "3       2166529.0     1808.0     20160727.0       NaN\n",
      "4       6172162.0     6500.0     20160708.0       NaN\n",
      "5       4005121.0     9983.0     20160706.0       NaN\n",
      "6       4347394.0     9983.0     20160716.0       NaN\n",
      "7       3094273.0    13602.0     20160727.0       NaN\n",
      "8       5139970.0     9983.0     20160729.0       NaN\n",
      "9       3237121.0    13602.0     20160703.0       NaN\n",
      "10      6224386.0     9983.0     20160716.0       NaN\n",
      "11      6488578.0    13602.0     20160712.0       NaN\n",
      "12      4164865.0     9983.0     20160703.0       NaN\n",
      "13      4164865.0     8059.0     20160706.0       NaN\n",
      "14      5468674.0     9983.0     20160713.0       NaN\n",
      "15      6258178.0     9144.0     20160706.0       NaN\n",
      "16      3659521.0     7341.0     20160727.0       NaN\n",
      "17      3659521.0    13181.0     20160717.0       NaN\n",
      "18      3659521.0    13602.0     20160718.0       NaN\n",
      "19      7333378.0    13602.0     20160704.0       NaN\n",
      "20      7333378.0      785.0     20160727.0       NaN\n",
      "21      4454914.0     2978.0     20160711.0       NaN\n",
      "22      6817282.0     8375.0     20160724.0       NaN\n",
      "23      3149569.0    10418.0     20160721.0       NaN\n",
      "24      6301186.0     1715.0     20160718.0       NaN\n",
      "25      6301186.0     4203.0     20160708.0       NaN\n",
      "26      2891521.0    13602.0     20160724.0       NaN\n",
      "27      3422977.0    13602.0     20160727.0       NaN\n",
      "28      4771330.0    13602.0     20160726.0       NaN\n",
      "29      4513282.0    11799.0     20160712.0       NaN\n",
      "...           ...        ...            ...       ...\n",
      "113610        NaN        NaN            NaN  0.396055\n",
      "113611        NaN        NaN            NaN  0.437962\n",
      "113612        NaN        NaN            NaN  0.355621\n",
      "113613        NaN        NaN            NaN  0.121922\n",
      "113614        NaN        NaN            NaN  0.437962\n",
      "113615        NaN        NaN            NaN  0.188946\n",
      "113616        NaN        NaN            NaN  0.396055\n",
      "113617        NaN        NaN            NaN  0.355621\n",
      "113618        NaN        NaN            NaN  0.121922\n",
      "113619        NaN        NaN            NaN  0.396055\n",
      "113620        NaN        NaN            NaN  0.355621\n",
      "113621        NaN        NaN            NaN  0.355621\n",
      "113622        NaN        NaN            NaN  0.396055\n",
      "113623        NaN        NaN            NaN  0.121922\n",
      "113624        NaN        NaN            NaN  0.437962\n",
      "113625        NaN        NaN            NaN  0.247518\n",
      "113626        NaN        NaN            NaN  0.188946\n",
      "113627        NaN        NaN            NaN  0.437962\n",
      "113628        NaN        NaN            NaN  0.355621\n",
      "113629        NaN        NaN            NaN  0.396055\n",
      "113630        NaN        NaN            NaN  0.437962\n",
      "113631        NaN        NaN            NaN  0.396055\n",
      "113632        NaN        NaN            NaN  0.437962\n",
      "113633        NaN        NaN            NaN  0.437962\n",
      "113634        NaN        NaN            NaN  0.121922\n",
      "113635        NaN        NaN            NaN  0.121922\n",
      "113636        NaN        NaN            NaN  0.121922\n",
      "113637        NaN        NaN            NaN  0.121922\n",
      "113638        NaN        NaN            NaN  0.437962\n",
      "113639        NaN        NaN            NaN  0.247518\n",
      "\n",
      "[454560 rows x 4 columns]\n"
     ]
    },
    {
     "name": "stderr",
     "output_type": "stream",
     "text": [
      "/home/dzp/anaconda3/lib/python3.6/site-packages/pandas/core/indexes/api.py:87: RuntimeWarning: '<' not supported between instances of 'int' and 'str', sort order is undefined for incomparable objects\n",
      "  result = result.union(other)\n"
     ]
    }
   ],
   "source": [
    "dataTest = pd.concat([dataTest, probability], axis=0)\n",
    "print(dataTest)"
   ]
  }
 ],
 "metadata": {
  "kernelspec": {
   "display_name": "Python 3",
   "language": "python",
   "name": "python3"
  },
  "language_info": {
   "codemirror_mode": {
    "name": "ipython",
    "version": 3
   },
   "file_extension": ".py",
   "mimetype": "text/x-python",
   "name": "python",
   "nbconvert_exporter": "python",
   "pygments_lexer": "ipython3",
   "version": "3.6.4"
  }
 },
 "nbformat": 4,
 "nbformat_minor": 2
}
